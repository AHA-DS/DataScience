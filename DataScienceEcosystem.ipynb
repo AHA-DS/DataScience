{
 "cells": [
  {
   "cell_type": "markdown",
   "id": "1ba0b8e0-1f89-476f-aadc-21bb83439f3e",
   "metadata": {},
   "source": [
    "# Data Science Tools and Ecosystem"
   ]
  },
  {
   "cell_type": "markdown",
   "id": "6be5fa5d-1ff0-4a76-b228-eeb8fae7fb4f",
   "metadata": {},
   "source": [
    "### This notebook contain a summery of the Data Science Tools and Ecosystem"
   ]
  },
  {
   "cell_type": "markdown",
   "id": "b8cd4d1b-e619-4a1b-9f64-74eb9599ef51",
   "metadata": {},
   "source": [
    "**Objectives:**\n",
    "+ List popular languages for Data Science\n",
    "+ List some of the commonly used libraries used by Data Scientists\n",
    "+ Create a Table \n",
    "+ List a few examples of evaluating arithmetic expressions in Python"
   ]
  },
  {
   "cell_type": "markdown",
   "id": "3f8450a4-92d4-40d6-9db9-6b19838fe459",
   "metadata": {},
   "source": [
    "#### Some of the popular languages that Data Scientists use are:\n",
    "\n",
    "1. Python\n",
    "2. R\n",
    "3. SQL"
   ]
  },
  {
   "cell_type": "markdown",
   "id": "5507e461-1014-4521-a3a6-acc2c5c705eb",
   "metadata": {},
   "source": [
    "#### Some of the commonly used libraries used by Data Scientists include:\n",
    "\n",
    "1. Panda, Numpy (Scientific computing libraries)\n",
    "    \n",
    "2. Matplotlib, Seaborn (Visualization libraries)\n",
    "   \n",
    "3. Scikit_learn, Keras (Machine learning libraries)\n",
    "   \n",
    "4. TensorFlow, Pytorch (Deep learning libraries)"
   ]
  },
  {
   "cell_type": "markdown",
   "id": "9e35076d-f8ac-4bf4-879d-ba7d7c16a98f",
   "metadata": {
    "tags": []
   },
   "source": [
    "| Data Science Tools |\n",
    "| ------------------ |\n",
    "| Jupyter |\n",
    "| RStudio |\n",
    "| Spyder |"
   ]
  },
  {
   "cell_type": "markdown",
   "id": "0c8cd675-d6fb-4c18-9ecc-36b69f4329c0",
   "metadata": {},
   "source": [
    "### Below are a few examples of evaluating arithmetic expressions in Python\n",
    "\n",
    "+ x = 10 + 20\n",
    "+ y = x / 2\n",
    "+ z = x + y"
   ]
  },
  {
   "cell_type": "code",
   "execution_count": 4,
   "id": "28c3f562-a73b-4ef0-a29f-1585718ac32a",
   "metadata": {
    "tags": []
   },
   "outputs": [
    {
     "data": {
      "text/plain": [
       "17"
      ]
     },
     "execution_count": 4,
     "metadata": {},
     "output_type": "execute_result"
    }
   ],
   "source": [
    "# This a simple arithmetic expression to mutiply then add integers\n",
    "(3*4)+5"
   ]
  },
  {
   "cell_type": "code",
   "execution_count": 5,
   "id": "1375d0d7-8056-421f-af1b-8c2aae48330a",
   "metadata": {
    "tags": []
   },
   "outputs": [
    {
     "name": "stdout",
     "output_type": "stream",
     "text": [
      "3.3333333333333335\n"
     ]
    }
   ],
   "source": [
    "# This will convert 200 minutes to hours by diving by 60\n",
    "\n",
    "mtime = 200\n",
    "htime = mtime / 60\n",
    "print(htime)"
   ]
  },
  {
   "cell_type": "markdown",
   "id": "f4140219-bf7d-4782-b436-94f09fdb383e",
   "metadata": {},
   "source": [
    "## Author\n",
    "Alhaitham Ali"
   ]
  },
  {
   "cell_type": "code",
   "execution_count": null,
   "id": "89a255f7-79c3-4b5f-90a8-f85f777ddc27",
   "metadata": {},
   "outputs": [],
   "source": []
  }
 ],
 "metadata": {
  "kernelspec": {
   "display_name": "Python",
   "language": "python",
   "name": "conda-env-python-py"
  },
  "language_info": {
   "codemirror_mode": {
    "name": "ipython",
    "version": 3
   },
   "file_extension": ".py",
   "mimetype": "text/x-python",
   "name": "python",
   "nbconvert_exporter": "python",
   "pygments_lexer": "ipython3",
   "version": "3.7.12"
  }
 },
 "nbformat": 4,
 "nbformat_minor": 5
}
