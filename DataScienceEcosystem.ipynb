{
 "cells": [
  {
   "cell_type": "markdown",
   "id": "1ba0b8e0-1f89-476f-aadc-21bb83439f3e",
   "metadata": {},
   "source": [
    "# Data Science Tools and Ecosystem"
   ]
  },
  {
   "cell_type": "markdown",
   "id": "23a02f62-04b3-4b81-9578-6546131ef8ff",
   "metadata": {},
   "source": [
    "# Data Science Tools and Ecosystem"
   ]
  },
  {
   "cell_type": "markdown",
   "id": "0485418e-2dea-4ead-ad38-eb92aaf8016d",
   "metadata": {},
   "source": [
    "### This notebook contain a summery of the Data Science Tools and Ecosystem"
   ]
  },
  {
   "cell_type": "markdown",
   "id": "6be5fa5d-1ff0-4a76-b228-eeb8fae7fb4f",
   "metadata": {},
   "source": [
    "### This notebook contain a summery of the Data Science Tools and Ecosystem"
   ]
  },
  {
   "cell_type": "markdown",
   "id": "c0936684-8e0f-483b-b8ce-fb6f75335e54",
   "metadata": {},
   "source": [
    "#### Some of the popular languages that Data Scientists use are:\n",
    "\n",
    "1. Python\n",
    "2. R\n",
    "3. SQL"
   ]
  },
  {
   "cell_type": "markdown",
   "id": "3f8450a4-92d4-40d6-9db9-6b19838fe459",
   "metadata": {},
   "source": [
    "#### Some of the popular languages that Data Scientists use are:\n",
    "\n",
    "1. Python\n",
    "2. R\n",
    "3. SQL"
   ]
  },
  {
   "cell_type": "markdown",
   "id": "933205af-73c6-433b-8eff-eb17a5b7b6f0",
   "metadata": {},
   "source": [
    "#### Some of the commonly used libraries used by Data Scientists include:\n",
    "\n",
    "1. Panda, Numpy (Scientific computing libraries)\n",
    "    \n",
    "2. Matplotlib, Seaborn (Visualization libraries)\n",
    "   \n",
    "3. Scikit_learn, Keras (Machine learning libraries)\n",
    "   \n",
    "4. TensorFlow, Pytorch (Deep learning libraries)\n",
    "  "
   ]
  },
  {
   "cell_type": "markdown",
   "id": "5507e461-1014-4521-a3a6-acc2c5c705eb",
   "metadata": {},
   "source": [
    "#### Some of the commonly used libraries used by Data Scientists include:\n",
    "\n",
    "1. Panda, Numpy (Scientific computing libraries)\n",
    "    \n",
    "2. Matplotlib, Seaborn (Visualization libraries)\n",
    "   \n",
    "3. Scikit_learn, Keras (Machine learning libraries)\n",
    "   \n",
    "4. TensorFlow, Pytorch (Deep learning libraries)"
   ]
  },
  {
   "cell_type": "markdown",
   "id": "e9947ccb-1b52-4dda-b1b9-59368f3ba51c",
   "metadata": {},
   "source": [
    "| Data Science Tools |\n",
    "| ------------------ |\n",
    "| Jupyter |\n",
    "| RStudio |\n",
    "| Spyder |"
   ]
  },
  {
   "cell_type": "markdown",
   "id": "9e35076d-f8ac-4bf4-879d-ba7d7c16a98f",
   "metadata": {
    "tags": []
   },
   "source": [
    "| Data Science Tools |\n",
    "| ------------------ |\n",
    "| Jupyter |\n",
    "| RStudio |\n",
    "| Spyder |"
   ]
  },
  {
   "cell_type": "markdown",
   "id": "cf79ff4e-1b2e-467d-9009-c3dc5c0e9719",
   "metadata": {},
   "source": [
    "### Below are a few examples of evaluating arithmetic expressions in Python\n",
    "\n",
    "+ x = 10 + 20\n",
    "+ y = x / 2\n",
    "+ z = x + y\n"
   ]
  },
  {
   "cell_type": "markdown",
   "id": "0c8cd675-d6fb-4c18-9ecc-36b69f4329c0",
   "metadata": {},
   "source": [
    "### Below are a few examples of evaluating arithmetic expressions in Python\n",
    "\n",
    "+ x = 10 + 20\n",
    "+ y = x / 2\n",
    "+ z = x + y"
   ]
  },
  {
   "cell_type": "code",
   "execution_count": null,
   "id": "0fb9e87d-7dcf-48f8-b80d-db03a4c381f0",
   "metadata": {},
   "outputs": [],
   "source": []
  }
 ],
 "metadata": {
  "kernelspec": {
   "display_name": "Python",
   "language": "python",
   "name": "conda-env-python-py"
  },
  "language_info": {
   "codemirror_mode": {
    "name": "ipython",
    "version": 3
   },
   "file_extension": ".py",
   "mimetype": "text/x-python",
   "name": "python",
   "nbconvert_exporter": "python",
   "pygments_lexer": "ipython3",
   "version": "3.7.12"
  }
 },
 "nbformat": 4,
 "nbformat_minor": 5
}
